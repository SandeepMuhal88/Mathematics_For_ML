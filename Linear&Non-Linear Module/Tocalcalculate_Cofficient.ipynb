{
 "cells": [
  {
   "cell_type": "code",
   "execution_count": null,
   "id": "0f42497e",
   "metadata": {},
   "outputs": [
    {
     "name": "stdout",
     "output_type": "stream",
     "text": [
      "[[ 1  1  1  1  1  1  1  1  1  1]\n",
      " [ 1  3  5  7  9  2  4  6  8 10]\n",
      " [ 2  4  6  8 10  3  5  7  9 11]]\n",
      "[[ 10  55  65]\n",
      " [ 55 385 440]\n",
      " [ 65 440 505]]\n",
      "[[1.12121212]\n",
      " [0.42424242]\n",
      " [1.54545455]]\n"
     ]
    }
   ],
   "source": [
    "import numpy as np\n",
    "\n",
    "# Feature matrix X (with a column of ones for the intercept)\n",
    "X = np.array([\n",
    "    [1, 1, 2],\n",
    "    [1, 3, 4],\n",
    "    [1, 5, 6],\n",
    "    [1, 7, 8],\n",
    "    [1, 9, 10],\n",
    "    [1, 2, 3],\n",
    "    [1, 4, 5],\n",
    "    [1, 6, 7],\n",
    "    [1, 8, 9],\n",
    "    [1, 10, 11]\n",
    "])\n",
    "\n",
    "# Target vector Y\n",
    "Y = np.array([5, 9, 13, 17, 21, 6, 10, 14, 18, 22]).reshape(-1, 1)\n",
    "\n",
    "# Applying the Normal Equation: β = (X^T X)^(-1) X^T Y\n",
    "X_transpose = X.T\n",
    "print(X_transpose)\n",
    "x=X_transpose @ X\n",
    "print(x)\n",
    "x=np.linalg.pinv(x)\n",
    "x=x @ X_transpose\n",
    "x=x @ Y\n",
    "print(\"These are coefficients\",x)"
   ]
  }
 ],
 "metadata": {
  "kernelspec": {
   "display_name": ".maths",
   "language": "python",
   "name": "python3"
  },
  "language_info": {
   "codemirror_mode": {
    "name": "ipython",
    "version": 3
   },
   "file_extension": ".py",
   "mimetype": "text/x-python",
   "name": "python",
   "nbconvert_exporter": "python",
   "pygments_lexer": "ipython3",
   "version": "3.12.5"
  }
 },
 "nbformat": 4,
 "nbformat_minor": 5
}
