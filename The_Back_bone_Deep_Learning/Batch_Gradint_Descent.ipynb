{
 "cells": [
  {
   "cell_type": "code",
   "execution_count": 1,
   "id": "a08e5337",
   "metadata": {},
   "outputs": [],
   "source": [
    "import numpy as np\n",
    "import matplotlib.pyplot as plt\n",
    "from sklearn.datasets import load_diabetes"
   ]
  },
  {
   "cell_type": "code",
   "execution_count": 2,
   "id": "30aa6739",
   "metadata": {},
   "outputs": [
    {
     "data": {
      "text/plain": [
       "array([[ 0.03807591,  0.05068012,  0.06169621, ..., -0.00259226,\n",
       "         0.01990749, -0.01764613],\n",
       "       [-0.00188202, -0.04464164, -0.05147406, ..., -0.03949338,\n",
       "        -0.06833155, -0.09220405],\n",
       "       [ 0.08529891,  0.05068012,  0.04445121, ..., -0.00259226,\n",
       "         0.00286131, -0.02593034],\n",
       "       ...,\n",
       "       [ 0.04170844,  0.05068012, -0.01590626, ..., -0.01107952,\n",
       "        -0.04688253,  0.01549073],\n",
       "       [-0.04547248, -0.04464164,  0.03906215, ...,  0.02655962,\n",
       "         0.04452873, -0.02593034],\n",
       "       [-0.04547248, -0.04464164, -0.0730303 , ..., -0.03949338,\n",
       "        -0.00422151,  0.00306441]], shape=(442, 10))"
      ]
     },
     "execution_count": 2,
     "metadata": {},
     "output_type": "execute_result"
    }
   ],
   "source": [
    "from sklearn.metrics import r2_score\n",
    "from sklearn.model_selection import train_test_split\n",
    "from sklearn.linear_model import LinearRegression\n",
    "import numpy as np\n",
    "import matplotlib.pyplot as plt\n",
    "from sklearn.datasets import load_diabetes\n",
    "\n",
    "# Load the diabetes dataset\n",
    "X,y=load_diabetes(return_X_y=True)\n",
    "X\n"
   ]
  },
  {
   "cell_type": "code",
   "execution_count": 3,
   "id": "71e277a2",
   "metadata": {},
   "outputs": [
    {
     "name": "stdout",
     "output_type": "stream",
     "text": [
      "(442, 10)\n",
      "(442,)\n"
     ]
    }
   ],
   "source": [
    "print(X.shape)\n",
    "print(y.shape)"
   ]
  },
  {
   "cell_type": "code",
   "execution_count": 4,
   "id": "84645f96",
   "metadata": {},
   "outputs": [
    {
     "name": "stdout",
     "output_type": "stream",
     "text": [
      "Coefficients: [  -9.15865318 -205.45432163  516.69374454  340.61999905 -895.5520019\n",
      "  561.22067904  153.89310954  126.73139688  861.12700152   52.42112238]\n",
      "Intercept: 151.88331005254167\n"
     ]
    }
   ],
   "source": [
    "X_train,X_test,y_train,y_test=train_test_split(X,y,test_size=0.2,random_state=2)\n",
    "model=LinearRegression()\n",
    "model.fit(X_train,y_train)\n",
    "print(\"Coefficients:\",model.coef_)\n",
    "print(\"Intercept:\",model.intercept_)\n"
   ]
  },
  {
   "cell_type": "code",
   "execution_count": 5,
   "id": "79e6abcc",
   "metadata": {},
   "outputs": [
    {
     "data": {
      "text/plain": [
       "0.4399338661568968"
      ]
     },
     "execution_count": 5,
     "metadata": {},
     "output_type": "execute_result"
    }
   ],
   "source": [
    "y_pred=model.predict(X_test)\n",
    "r2_score(y_test,y_pred)"
   ]
  },
  {
   "cell_type": "code",
   "execution_count": 6,
   "id": "abf23268",
   "metadata": {},
   "outputs": [
    {
     "data": {
      "text/plain": [
       "(353, 10)"
      ]
     },
     "execution_count": 6,
     "metadata": {},
     "output_type": "execute_result"
    }
   ],
   "source": [
    "X_train.shape"
   ]
  },
  {
   "cell_type": "code",
   "execution_count": 7,
   "id": "6edb49d9",
   "metadata": {},
   "outputs": [],
   "source": [
    "class BatchGradientDescent:\n",
    "    def __init__(self,learning_rate=0.01,epochs=100):\n",
    "        # weights=cofficient and bias=intercept are initialized to None\n",
    "        self.learning_rate=learning_rate\n",
    "        self.epochs=epochs\n",
    "        self.weights=None\n",
    "        self.bias=None\n",
    "    def fit(self,X,y):\n",
    "        # Initialize weights and bias\n",
    "        self.weights=np.ones(X.shape[1])\n",
    "        self.bias=0\n",
    "        for i in range(self.epochs):\n",
    "            # Calculate predictions\n",
    "            y_hat=np.dot(X,self.weights)+self.bias\n",
    "            # Calculate gradients\n",
    "            intercept_gradient=-2*np.mean(y-y_hat)\n",
    "            weight_gradient=self.bias-(self.learning_rate*intercept_gradient)\n",
    "            # Update weights and bias\n",
    "            self.weights=self.weights-(self.learning_rate*weight_gradient)\n",
    "            self.bias=self.bias-(self.learning_rate*intercept_gradient)\n",
    "        print(\"Initial weights:\",self.weights)\n",
    "        print(\"Initial bias:\",self.bias)\n",
    "        # print(\"Shape of y_hat:\",y_hat.shape)\n",
    "        \n",
    "    def predict(self,X):\n",
    "        y_hat=np.dot(X,self.weights)+self.bias\n",
    "        return y_hat\n",
    "\n"
   ]
  },
  {
   "cell_type": "code",
   "execution_count": 8,
   "id": "87bb97c8",
   "metadata": {},
   "outputs": [
    {
     "name": "stdout",
     "output_type": "stream",
     "text": [
      "Initial weights: [-85.40957067 -85.40957067 -85.40957067 -85.40957067 -85.40957067\n",
      " -85.40957067 -85.40957067 -85.40957067 -85.40957067 -85.40957067]\n",
      "Initial bias: 130.16159614585087\n"
     ]
    }
   ],
   "source": [
    "bgd=BatchGradientDescent()\n",
    "bgd.fit(X_train,y_train)\n",
    "y_pred=bgd.predict(X_test)\n",
    "# print(y_pred)\n"
   ]
  },
  {
   "cell_type": "code",
   "execution_count": 9,
   "id": "227e79cb",
   "metadata": {},
   "outputs": [],
   "source": [
    "# np.ones(X_train.shape[1])\n",
    "# np.ones(60, dtype=int,device='cpu')"
   ]
  },
  {
   "cell_type": "code",
   "execution_count": 10,
   "id": "3f4c2fc8",
   "metadata": {},
   "outputs": [
    {
     "data": {
      "text/plain": [
       "-0.5095532900940889"
      ]
     },
     "execution_count": 10,
     "metadata": {},
     "output_type": "execute_result"
    }
   ],
   "source": [
    "r2_score(y_test,y_pred)"
   ]
  }
 ],
 "metadata": {
  "kernelspec": {
   "display_name": ".maths",
   "language": "python",
   "name": "python3"
  },
  "language_info": {
   "codemirror_mode": {
    "name": "ipython",
    "version": 3
   },
   "file_extension": ".py",
   "mimetype": "text/x-python",
   "name": "python",
   "nbconvert_exporter": "python",
   "pygments_lexer": "ipython3",
   "version": "3.12.5"
  }
 },
 "nbformat": 4,
 "nbformat_minor": 5
}
