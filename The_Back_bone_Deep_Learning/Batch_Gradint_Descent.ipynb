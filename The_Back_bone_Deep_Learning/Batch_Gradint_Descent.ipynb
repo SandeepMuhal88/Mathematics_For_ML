{
 "cells": [
  {
   "cell_type": "code",
   "execution_count": 1,
   "id": "a08e5337",
   "metadata": {},
   "outputs": [],
   "source": [
    "import numpy as np\n",
    "import matplotlib.pyplot as plt\n",
    "from sklearn.datasets import load_diabetes"
   ]
  },
  {
   "cell_type": "code",
   "execution_count": null,
   "id": "64afe11e",
   "metadata": {},
   "outputs": [
    {
     "name": "stdout",
     "output_type": "stream",
     "text": [
      "[[ 1  1  1  1  1  1  1  1  1  1]\n",
      " [ 1  3  5  7  9  2  4  6  8 10]\n",
      " [ 2  4  6  8 10  3  5  7  9 11]]\n",
      "[[ 10  55  65]\n",
      " [ 55 385 440]\n",
      " [ 65 440 505]]\n",
      "[[ 0.23838384 -0.14343434  0.09494949]\n",
      " [-0.14343434  0.08686869 -0.05656566]\n",
      " [ 0.09494949 -0.05656566  0.03838384]]\n",
      "[[ 0.28484848  0.18787879  0.09090909 -0.00606061 -0.1030303   0.23636364\n",
      "   0.13939394  0.04242424 -0.05454545 -0.15151515]\n",
      " [-0.16969697 -0.10909091 -0.04848485  0.01212121  0.07272727 -0.13939394\n",
      "  -0.07878788 -0.01818182  0.04242424  0.1030303 ]\n",
      " [ 0.11515152  0.07878788  0.04242424  0.00606061 -0.03030303  0.0969697\n",
      "   0.06060606  0.02424242 -0.01212121 -0.04848485]]\n",
      "[[1.12121212]\n",
      " [0.42424242]\n",
      " [1.54545455]]\n"
     ]
    }
   ],
   "source": [
    "import numpy as np\n",
    "\n",
    "# Feature matrix X (with a column of ones for the intercept)\n",
    "X = np.array([\n",
    "    [1, 1, 2],\n",
    "    [1, 3, 4],\n",
    "    [1, 5, 6],\n",
    "    [1, 7, 8],\n",
    "    [1, 9, 10],\n",
    "    [1, 2, 3],\n",
    "    [1, 4, 5],\n",
    "    [1, 6, 7],\n",
    "    [1, 8, 9],\n",
    "    [1, 10, 11]\n",
    "])\n",
    "\n",
    "# Target vector Y\n",
    "Y = np.array([5, 9, 13, 17, 21, 6, 10, 14, 18, 22]).reshape(-1, 1)\n",
    "\n",
    "# Applying the Normal Equation: β = (X^T X)^(-1) X^T Y\n",
    "X_transpose = X.T\n",
    "print(X_transpose)\n",
    "x=X_transpose @ X\n",
    "print(x)\n",
    "x=np.linalg.pinv(x)\n"
   ]
  }
 ],
 "metadata": {
  "kernelspec": {
   "display_name": ".maths",
   "language": "python",
   "name": "python3"
  },
  "language_info": {
   "codemirror_mode": {
    "name": "ipython",
    "version": 3
   },
   "file_extension": ".py",
   "mimetype": "text/x-python",
   "name": "python",
   "nbconvert_exporter": "python",
   "pygments_lexer": "ipython3",
   "version": "3.12.5"
  }
 },
 "nbformat": 4,
 "nbformat_minor": 5
}
