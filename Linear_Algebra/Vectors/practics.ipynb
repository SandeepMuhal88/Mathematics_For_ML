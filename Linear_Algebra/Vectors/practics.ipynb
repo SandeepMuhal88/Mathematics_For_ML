{
 "cells": [
  {
   "cell_type": "code",
   "execution_count": null,
   "id": "8f85a78e",
   "metadata": {},
   "outputs": [
    {
     "name": "stdout",
     "output_type": "stream",
     "text": [
      "Eucllidean Distance 3.7416573867739413\n"
     ]
    }
   ],
   "source": [
    "import numpy as np\n",
    "\n",
    "\n",
    "a=np.array([1, 2, 3],[4, 5, 6])\n",
    "b=np.array([4, 5, 6,9,89,89,....n])\n",
    "\n",
    "distance = np.linalg.norm(a)\n",
    "print(\"Eucllidean Distance\",distance)"
   ]
  }
 ],
 "metadata": {
  "kernelspec": {
   "display_name": ".maths",
   "language": "python",
   "name": "python3"
  },
  "language_info": {
   "codemirror_mode": {
    "name": "ipython",
    "version": 3
   },
   "file_extension": ".py",
   "mimetype": "text/x-python",
   "name": "python",
   "nbconvert_exporter": "python",
   "pygments_lexer": "ipython3",
   "version": "3.12.5"
  }
 },
 "nbformat": 4,
 "nbformat_minor": 5
}
