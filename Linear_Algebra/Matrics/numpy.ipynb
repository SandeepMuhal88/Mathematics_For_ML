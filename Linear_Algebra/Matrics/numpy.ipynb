{
 "cells": [
  {
   "cell_type": "code",
   "execution_count": 8,
   "metadata": {},
   "outputs": [
    {
     "name": "stdout",
     "output_type": "stream",
     "text": [
      "[[1 2 3]\n",
      " [4 5 6]\n",
      " [7 8 9]]\n",
      "(3, 3)\n"
     ]
    }
   ],
   "source": [
    "import numpy as np\n",
    "import pandas as pd\n",
    "\n",
    "X=np.array([[1,2,3],\n",
    "            [4,5,6],\n",
    "            [7,8,9]])\n",
    "\n",
    "print(X)\n",
    "\n",
    "print(X.shape)\n",
    "\n",
    "\n"
   ]
  },
  {
   "cell_type": "code",
   "execution_count": 9,
   "metadata": {},
   "outputs": [
    {
     "name": "stdout",
     "output_type": "stream",
     "text": [
      "[[1 1 2 3]\n",
      " [1 4 5 6]\n",
      " [1 7 8 9]]\n"
     ]
    }
   ],
   "source": [
    "import random\n",
    "X=np.insert(X,0,1,axis=1)\n",
    "print(X)\n"
   ]
  },
  {
   "cell_type": "code",
   "execution_count": 13,
   "metadata": {},
   "outputs": [
    {
     "name": "stdout",
     "output_type": "stream",
     "text": [
      "[[1 1 1]\n",
      " [1 1 1]\n",
      " [1 1 1]]\n",
      "[[0. 0. 0.]\n",
      " [0. 0. 0.]\n",
      " [0. 0. 0.]]\n"
     ]
    }
   ],
   "source": [
    "# numpy.ones(shape, dtype=None, order='C')\n",
    "\n",
    "X=np.ones((3,3),dtype=int,order='C')\n",
    "print(X)\n",
    "\n",
    "X=np.zeros((3,3))\n",
    "print(X)\n"
   ]
  },
  {
   "cell_type": "code",
   "execution_count": 14,
   "metadata": {},
   "outputs": [
    {
     "name": "stdout",
     "output_type": "stream",
     "text": [
      "1D array (float):\n",
      "[1. 1. 1. 1. 1.]\n",
      "float64\n",
      "--------------------\n",
      "2D array (float):\n",
      "[[1. 1. 1.]\n",
      " [1. 1. 1.]]\n",
      "--------------------\n",
      "3x3 array (int32):\n",
      "[[1 1 1]\n",
      " [1 1 1]\n",
      " [1 1 1]]\n",
      "int32\n",
      "--------------------\n",
      "3D array:\n",
      "[[[1. 1.]\n",
      "  [1. 1.]]\n",
      "\n",
      " [[1. 1.]\n",
      "  [1. 1.]]]\n"
     ]
    }
   ],
   "source": [
    "import numpy as np\n",
    "\n",
    "# Create a 1-dimensional array of 5 ones (float by default)\n",
    "arr1 = np.ones(5)\n",
    "print(\"1D array (float):\")\n",
    "print(arr1)\n",
    "print(arr1.dtype) # Output: float64\n",
    "\n",
    "print(\"-\" * 20)\n",
    "\n",
    "# Create a 2x3 array of ones (float by default)\n",
    "arr2 = np.ones((2, 3))\n",
    "print(\"2D array (float):\")\n",
    "print(arr2)\n",
    "\n",
    "print(\"-\" * 20)\n",
    "\n",
    "# Create a 3x3 array of ones with integer data type\n",
    "arr3 = np.ones((3, 3), dtype=np.int32)\n",
    "print(\"3x3 array (int32):\")\n",
    "print(arr3)\n",
    "print(arr3.dtype) # Output: int32\n",
    "\n",
    "print(\"-\" * 20)\n",
    "\n",
    "# Create a 2x2x2 3D array of ones\n",
    "arr4 = np.ones((2, 2, 2))\n",
    "print(\"3D array:\")\n",
    "print(arr4)"
   ]
  },
  {
   "cell_type": "code",
   "execution_count": 15,
   "metadata": {},
   "outputs": [
    {
     "name": "stdout",
     "output_type": "stream",
     "text": [
      "\n",
      "Zeros Array:\n",
      "[[0. 0. 0. 0.]\n",
      " [0. 0. 0. 0.]\n",
      " [0. 0. 0. 0.]]\n",
      "\n",
      "Ones Array:\n",
      "[[1. 1.]\n",
      " [1. 1.]]\n"
     ]
    }
   ],
   "source": [
    "# 3x4 array of zeros\n",
    "zeros_arr = np.zeros((3, 4))\n",
    "print(\"\\nZeros Array:\")\n",
    "print(zeros_arr)\n",
    "\n",
    "# 2x2 array of ones\n",
    "ones_arr = np.ones((2, 2))\n",
    "print(\"\\nOnes Array:\")\n",
    "print(ones_arr)"
   ]
  },
  {
   "cell_type": "code",
   "execution_count": 16,
   "metadata": {},
   "outputs": [
    {
     "name": "stdout",
     "output_type": "stream",
     "text": [
      "\n",
      "Empty Array:\n",
      "[[1. 1. 1.]\n",
      " [1. 1. 1.]]\n"
     ]
    }
   ],
   "source": [
    "# 2x3 empty array\n",
    "empty_arr = np.empty((2, 3))\n",
    "print(\"\\nEmpty Array:\")\n",
    "print(empty_arr) # Contains uninitialized data"
   ]
  },
  {
   "cell_type": "code",
   "execution_count": 17,
   "metadata": {},
   "outputs": [
    {
     "name": "stdout",
     "output_type": "stream",
     "text": [
      "\n",
      "Full Array (with 7):\n",
      "[[7 7]\n",
      " [7 7]]\n"
     ]
    }
   ],
   "source": [
    "# 2x2 array filled with 7\n",
    "full_arr = np.full((2, 2), 7)\n",
    "print(\"\\nFull Array (with 7):\")\n",
    "print(full_arr)"
   ]
  },
  {
   "cell_type": "code",
   "execution_count": 26,
   "metadata": {},
   "outputs": [
    {
     "name": "stdout",
     "output_type": "stream",
     "text": [
      "\n",
      "Arange (0-9):\n",
      "[0 1 2 3 4 5 6 7 8 9]\n",
      "\n",
      "Arange (2-10 step 2):\n",
      "[2 4 6 8]\n",
      "\n",
      "Linspace (5 points between 0 and 1):\n",
      "[0.   0.25 0.5  0.75 1.  ]\n"
     ]
    }
   ],
   "source": [
    "# Array from 0 to 9 (exclusive of 10)\n",
    "range_arr = np.arange(10)\n",
    "print(\"\\nArange (0-9):\")\n",
    "print(range_arr)\n",
    "\n",
    "# Array from 2 to 10 with step 2\n",
    "step_arr = np.arange(2, 10, 2)\n",
    "print(\"\\nArange (2-10 step 2):\")\n",
    "print(step_arr)\n",
    "\n",
    "# Array of 5 linearly spaced numbers between 0 and 1\n",
    "linspace_arr = np.linspace(0, 1, 5)\n",
    "print(\"\\nLinspace (5 points between 0 and 1):\")\n",
    "print(linspace_arr)"
   ]
  },
  {
   "cell_type": "code",
   "execution_count": 28,
   "metadata": {},
   "outputs": [
    {
     "name": "stdout",
     "output_type": "stream",
     "text": [
      "\n",
      "Identity Matrix (3x3):\n",
      "[[1. 0. 0.]\n",
      " [0. 1. 0.]\n",
      " [0. 0. 1.]]\n",
      "\n",
      "Random Matrix (3x3):\n",
      "[[0.48755313 0.59336379 0.88542346]\n",
      " [0.25271808 0.37062332 0.05111893]\n",
      " [0.05532019 0.7894133  0.09854405]]\n"
     ]
    }
   ],
   "source": [
    "# 3x3 identity matrix\n",
    "identity_mat = np.eye(3)\n",
    "print(\"\\nIdentity Matrix (3x3):\")\n",
    "print(identity_mat)\n",
    "\n",
    "# 3x3 array of random numbers between 0 and 1\n",
    "random_mat = np.random.rand(3, 3)\n",
    "print(\"\\nRandom Matrix (3x3):\")\n",
    "print(random_mat)\n"
   ]
  },
  {
   "cell_type": "code",
   "execution_count": 29,
   "metadata": {},
   "outputs": [
    {
     "name": "stdout",
     "output_type": "stream",
     "text": [
      "Array:\n",
      "[[1 2 3]\n",
      " [4 5 6]]\n",
      "Shape: (2, 3)\n",
      "Number of dimensions: 2\n",
      "Number of elements: 6\n",
      "Data type of elements: int64\n",
      "Size of each element (bytes): 8\n",
      "Total size (bytes): 48\n"
     ]
    }
   ],
   "source": [
    "arr = np.array([[1, 2, 3], [4, 5, 6]])\n",
    "\n",
    "print(\"Array:\")\n",
    "print(arr)\n",
    "print(\"Shape:\", arr.shape)      # Dimensions (rows, columns)\n",
    "print(\"Number of dimensions:\", arr.ndim) # Number of dimensions\n",
    "print(\"Number of elements:\", arr.size)  # Total number of elements\n",
    "print(\"Data type of elements:\", arr.dtype) # Data type (e.g., int32, float64)\n",
    "print(\"Size of each element (bytes):\", arr.itemsize) # Size of each element in bytes\n",
    "print(\"Total size (bytes):\", arr.nbytes)    # Total size of the array in bytes"
   ]
  }
 ],
 "metadata": {
  "kernelspec": {
   "display_name": ".maths",
   "language": "python",
   "name": "python3"
  },
  "language_info": {
   "codemirror_mode": {
    "name": "ipython",
    "version": 3
   },
   "file_extension": ".py",
   "mimetype": "text/x-python",
   "name": "python",
   "nbconvert_exporter": "python",
   "pygments_lexer": "ipython3",
   "version": "3.12.5"
  }
 },
 "nbformat": 4,
 "nbformat_minor": 2
}
