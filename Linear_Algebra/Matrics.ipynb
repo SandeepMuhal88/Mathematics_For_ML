{
 "cells": [
  {
   "cell_type": "code",
   "execution_count": 1,
   "metadata": {},
   "outputs": [
    {
     "name": "stdout",
     "output_type": "stream",
     "text": [
      "[1 2 3]\n",
      "[[1 2 3]\n",
      " [4 5 6]]\n"
     ]
    }
   ],
   "source": [
    "import numpy as np\n",
    "# creating 1-d vector\n",
    "a=np.array([1,2,3])\n",
    "print(a)\n",
    "# creating 2-d vector\n",
    "b=np.array([[1,2,3],[4,5,6]])\n",
    "print(b)\n"
   ]
  },
  {
   "cell_type": "code",
   "execution_count": 2,
   "metadata": {},
   "outputs": [
    {
     "name": "stdout",
     "output_type": "stream",
     "text": [
      "[[1 2 3]\n",
      " [4 5 6]\n",
      " [7 8 9]]\n",
      "Matrix:-\n",
      " [[1 2 3]\n",
      " [4 5 6]\n",
      " [7 8 9]]\n",
      "Transpose:-\n",
      " [[1 4 7]\n",
      " [2 5 8]\n",
      " [3 6 9]]\n",
      "Product:-\n",
      " [[ 14  32  50]\n",
      " [ 32  77 122]\n",
      " [ 50 122 194]]\n",
      "Identity Matrix:-\n",
      " [[1. 0. 0.]\n",
      " [0. 1. 0.]\n",
      " [0. 0. 1.]]\n"
     ]
    }
   ],
   "source": [
    "# creating Matrices\n",
    "a=np.array([[1,2,3],[4,5,6],[7,8,9]])\n",
    "print(a)\n",
    "matrix=np.array([[1,2,3],[4,5,6],[7,8,9]])\n",
    "print(\"Matrix:-\\n\",matrix)\n",
    "\n",
    "transpose=np.transpose(matrix)\n",
    "print(\"Transpose:-\\n\",transpose)\n",
    "\n",
    "# matrix multiplication\n",
    "product=np.dot(matrix,transpose)\n",
    "print(\"Product:-\\n\",product)\n",
    "# dot product of vector and matrix\n",
    "\n",
    "# identity matrix\n",
    "identity=np.identity(3)\n",
    "print(\"Identity Matrix:-\\n\",identity)"
   ]
  },
  {
   "cell_type": "code",
   "execution_count": 3,
   "metadata": {},
   "outputs": [
    {
     "name": "stdout",
     "output_type": "stream",
     "text": [
      "Transpose:-\n",
      " [[1 4 7]\n",
      " [2 5 8]\n",
      " [3 6 9]]\n",
      "Determinant of Matrix:\n",
      " 0.0\n"
     ]
    }
   ],
   "source": [
    "import numpy as np\n",
    "# Matrix Transpose\n",
    "matrix=np.array([[1,2,3],[4,5,6],[7,8,9]])\n",
    "transpose=np.transpose(matrix)\n",
    "print(\"Transpose:-\\n\",transpose)\n",
    "# Matrix Determinant\n",
    "det=np.linalg.det(matrix)\n",
    "print(\"Determinant of Matrix:\\n\", det)\n"
   ]
  },
  {
   "cell_type": "code",
   "execution_count": 4,
   "metadata": {},
   "outputs": [
    {
     "name": "stdout",
     "output_type": "stream",
     "text": [
      "Matrix:-\n",
      " [[1 2 3]\n",
      " [4 5 6]\n",
      " [7 8 9]]\n",
      "Matrix1:-\n",
      " [[1 2 3]\n",
      " [4 5 6]\n",
      " [7 8 9]]\n",
      "Inverse of Matrix:\n",
      " [[-2.   1. ]\n",
      " [ 1.5 -0.5]]\n",
      "Determinant of Matrix:\n",
      " -2.0000000000000004\n"
     ]
    }
   ],
   "source": [
    "import numpy as np\n",
    "arr1=np.array([[1,2,3],[4,5,6],[7,8,9]])\n",
    "matrix1=np.array([[1,2,3],[4,5,6],[7,8,9]])\n",
    "arr2=np.array([[1,2],[3,4]])\n",
    "print(\"Matrix:-\\n\",arr1)\n",
    "print(\"Matrix1:-\\n\",matrix1)\n",
    "# Matrix Inverse\n",
    "arr=np.linalg.inv(arr2)\n",
    "print(\"Inverse of Matrix:\\n\", arr)\n",
    "\n",
    "# Matrix Determinant\n",
    "det=np.linalg.det(arr2)\n",
    "print(\"Determinant of Matrix:\\n\", det)\n"
   ]
  },
  {
   "cell_type": "code",
   "execution_count": 5,
   "metadata": {},
   "outputs": [
    {
     "name": "stdout",
     "output_type": "stream",
     "text": [
      "[[29 24]\n",
      " [60 61]]\n"
     ]
    }
   ],
   "source": [
    "import numpy as np\n",
    "\n",
    "arr1 = np.array([[1, 3], [4, 5]])\n",
    "arr2 = np.array([[5, 9], [8, 5]])\n",
    "\n",
    "print(np.dot(arr1, arr2))\n"
   ]
  }
 ],
 "metadata": {
  "kernelspec": {
   "display_name": "Python 3",
   "language": "python",
   "name": "python3"
  },
  "language_info": {
   "codemirror_mode": {
    "name": "ipython",
    "version": 3
   },
   "file_extension": ".py",
   "mimetype": "text/x-python",
   "name": "python",
   "nbconvert_exporter": "python",
   "pygments_lexer": "ipython3",
   "version": "3.12.5"
  }
 },
 "nbformat": 4,
 "nbformat_minor": 2
}
